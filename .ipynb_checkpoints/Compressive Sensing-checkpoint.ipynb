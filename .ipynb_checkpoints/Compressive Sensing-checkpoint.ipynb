{
 "cells": [
  {
   "cell_type": "code",
   "execution_count": 8,
   "metadata": {},
   "outputs": [],
   "source": [
    "import numpy as np\n",
    "import matplotlib as mpl\n",
    "import matplotlib.pyplot as plt\n",
    "import scipy.optimize as spopt\n",
    "import scipy.fftpack as spfft\n",
    "import scipy.ndimage as spimg"
   ]
  },
  {
   "cell_type": "code",
   "execution_count": 13,
   "metadata": {},
   "outputs": [],
   "source": [
    "import cvxpy as cvx"
   ]
  },
  {
   "cell_type": "code",
   "execution_count": 11,
   "metadata": {},
   "outputs": [],
   "source": [
    "# sum of two sinusoids\n",
    "n = 5000\n",
    "t = np.linspace(0, 1/8, n)\n",
    "y = np.sin(1394 * np.pi * t) + np.sin(3266 * np.pi * t)\n",
    "yt = spfft.dct(y, norm='ortho')"
   ]
  },
  {
   "cell_type": "code",
   "execution_count": 12,
   "metadata": {},
   "outputs": [],
   "source": [
    "# extract small sample of signal\n",
    "m = 500 # 10% sample\n",
    "ri = np.random.choice(n, m, replace=False) # random sample of indices\n",
    "ri.sort() # sorting not strictly necessary, but convenient for plotting\n",
    "t2 = t[ri]\n",
    "y2 = y[ri]"
   ]
  },
  {
   "cell_type": "code",
   "execution_count": 14,
   "metadata": {},
   "outputs": [
    {
     "name": "stderr",
     "output_type": "stream",
     "text": [
      "C:\\Users\\Mattia\\Miniconda3\\envs\\env_py2\\lib\\site-packages\\cvxpy\\problems\\problem.py:609: RuntimeWarning: overflow encountered in long_scalars\n",
      "  if self.max_big_small_squared < big*small**2:\n",
      "C:\\Users\\Mattia\\Miniconda3\\envs\\env_py2\\lib\\site-packages\\cvxpy\\problems\\problem.py:610: RuntimeWarning: overflow encountered in long_scalars\n",
      "  self.max_big_small_squared = big*small**2\n"
     ]
    },
    {
     "name": "stdout",
     "output_type": "stream",
     "text": [
      "\n",
      "ECOS 2.0.4 - (C) embotech GmbH, Zurich Switzerland, 2012-15. Web: www.embotech.com/ECOS\n",
      "\n",
      "It     pcost       dcost      gap   pres   dres    k/t    mu     step   sigma     IR    |   BT\n",
      " 0  +0.000e+000  -0.000e+000  +5e+003  1e+000  1e-002  1e+000  5e-001    ---    ---    0  1  - |  -  - \n",
      " 1  -3.421e-004  -0.000e+000  +6e+001  5e-001  1e-004  1e-002  6e-003  0.9890  1e-004   0  0  0 |  0  0\n",
      " 2  -3.222e-006  -0.000e+000  +6e-001  1e-002  1e-006  1e-004  6e-005  0.9890  1e-004   0  0  0 |  0  0\n",
      " 3  -2.945e-008  -0.000e+000  +7e-003  1e-004  2e-008  1e-006  7e-007  0.9890  1e-004   0  0  0 |  0  0\n",
      " 4  -2.576e-010  -0.000e+000  +8e-005  1e-006  2e-010  2e-008  8e-009  0.9890  1e-004   0  0  0 |  0  0\n",
      " 5  -2.098e-012  -0.000e+000  +9e-007  2e-008  2e-012  2e-010  9e-011  0.9890  1e-004   0  0  0 |  0  0\n",
      " 6  -1.493e-014  -0.000e+000  +9e-009  2e-010  2e-014  2e-012  9e-013  0.9890  1e-004   0  0  0 |  0  0\n",
      "\n",
      "OPTIMAL (within feastol=1.8e-010, reltol=6.4e+005, abstol=9.5e-009).\n",
      "Runtime: 10.824150 seconds.\n",
      "\n"
     ]
    }
   ],
   "source": [
    "# create idct matrix operator\n",
    "A = spfft.idct(np.identity(n), norm='ortho', axis=0)\n",
    "A = A[ri]\n",
    "\n",
    "# do L1 optimization\n",
    "vx = cvx.Variable(n)\n",
    "objective = cvx.Minimize(cvx.norm(vx, 1))\n",
    "constraints = [A*vx == y2]\n",
    "prob = cvx.Problem(objective, constraints)\n",
    "result = prob.solve(verbose=True)"
   ]
  },
  {
   "cell_type": "code",
   "execution_count": 15,
   "metadata": {},
   "outputs": [],
   "source": [
    "# reconstruct signal\n",
    "x = np.array(vx.value)\n",
    "x = np.squeeze(x)\n",
    "sig = spfft.idct(x, norm='ortho', axis=0)"
   ]
  },
  {
   "cell_type": "code",
   "execution_count": null,
   "metadata": {},
   "outputs": [],
   "source": []
  }
 ],
 "metadata": {
  "kernelspec": {
   "display_name": "Python 2",
   "language": "python",
   "name": "python2"
  },
  "language_info": {
   "codemirror_mode": {
    "name": "ipython",
    "version": 2
   },
   "file_extension": ".py",
   "mimetype": "text/x-python",
   "name": "python",
   "nbconvert_exporter": "python",
   "pygments_lexer": "ipython2",
   "version": "2.7.15"
  }
 },
 "nbformat": 4,
 "nbformat_minor": 2
}
